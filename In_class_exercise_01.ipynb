{
  "nbformat": 4,
  "nbformat_minor": 0,
  "metadata": {
    "colab": {
      "name": "In_class_exercise_01.ipynb",
      "provenance": [],
      "collapsed_sections": [],
      "include_colab_link": true
    },
    "kernelspec": {
      "display_name": "Python 3",
      "language": "python",
      "name": "python3"
    },
    "language_info": {
      "codemirror_mode": {
        "name": "ipython",
        "version": 3
      },
      "file_extension": ".py",
      "mimetype": "text/x-python",
      "name": "python",
      "nbconvert_exporter": "python",
      "pygments_lexer": "ipython3",
      "version": "3.8.5"
    }
  },
  "cells": [
    {
      "cell_type": "markdown",
      "metadata": {
        "id": "view-in-github",
        "colab_type": "text"
      },
      "source": [
        "<a href=\"https://colab.research.google.com/github/RomalPatel28/Romal_INFO5731_Fall2021/blob/main/In_class_exercise_01.ipynb\" target=\"_parent\"><img src=\"https://colab.research.google.com/assets/colab-badge.svg\" alt=\"Open In Colab\"/></a>"
      ]
    },
    {
      "cell_type": "markdown",
      "metadata": {
        "id": "DymRJbxDBCnf"
      },
      "source": [
        "# **The first In-class-exercise (09/01/2021, 40 points in total)**"
      ]
    },
    {
      "cell_type": "markdown",
      "metadata": {
        "id": "03jb4GZsBkBS"
      },
      "source": [
        "(1) Write a Python program to calculate the length of a string. (4 points)"
      ]
    },
    {
      "cell_type": "code",
      "metadata": {
        "colab": {
          "base_uri": "https://localhost:8080/"
        },
        "id": "YaGLbSHHB8Ej",
        "outputId": "5a879c73-5287-4191-e8fb-771f5f760f6a"
      },
      "source": [
        "Programming = \"I want to become a developer after my graduation.\"\n",
        "print(len(Programming))"
      ],
      "execution_count": 29,
      "outputs": [
        {
          "output_type": "stream",
          "name": "stdout",
          "text": [
            "49\n"
          ]
        }
      ]
    },
    {
      "cell_type": "markdown",
      "metadata": {
        "id": "jJDe71iLB616"
      },
      "source": [
        "(2) Write a Python program to count the number of characters in a string. (4 points)\n",
        "\n",
        "Sample String : 'google.com‘, \n",
        "\n",
        "Expected Result : {'o': 3, 'g': 2, '.': 1, 'e': 1, 'l': 1, 'm': 1, 'c': 1}"
      ]
    },
    {
      "cell_type": "code",
      "metadata": {
        "colab": {
          "base_uri": "https://localhost:8080/"
        },
        "id": "MtKskTzbCLaU",
        "outputId": "ac6cec42-9378-4b18-9f91-79a1aa34b291"
      },
      "source": [
        "def total_count(sample_string): # total_count function will calculate the numbers of characters in a string\n",
        "  dict = {}\n",
        "  for letter in sample_string:\n",
        "    dict_keys = dict.keys()\n",
        "    if letter in dict_keys:\n",
        "      dict[letter] = dict [letter] + 1\n",
        "    else:\n",
        "        dict[letter] = 1\n",
        "  return dict\n",
        "print(total_count('google.com'))\n",
        "\n"
      ],
      "execution_count": null,
      "outputs": [
        {
          "output_type": "stream",
          "name": "stdout",
          "text": [
            "{'g': 2, 'o': 3, 'l': 1, 'e': 1, '.': 1, 'c': 1, 'm': 1}\n"
          ]
        }
      ]
    },
    {
      "cell_type": "markdown",
      "metadata": {
        "id": "55W9AMdXCSpV"
      },
      "source": [
        "(3) Write a Python program to sum all the items in a list. (4 points)"
      ]
    },
    {
      "cell_type": "code",
      "metadata": {
        "colab": {
          "base_uri": "https://localhost:8080/"
        },
        "id": "I57NXsauCec2",
        "outputId": "7aaa1965-6b86-441c-ce79-e23fb46a231d"
      },
      "source": [
        "def list1 (items1):\n",
        "  sum_items1 = 0\n",
        "  for r in items1:\n",
        "    sum_items1 += r\n",
        "  return sum_items1 \n",
        "print(list1([54,75,26,48,6,552,32]))\n",
        "\n"
      ],
      "execution_count": null,
      "outputs": [
        {
          "output_type": "stream",
          "name": "stdout",
          "text": [
            "793\n"
          ]
        }
      ]
    },
    {
      "cell_type": "markdown",
      "metadata": {
        "id": "4ulBZ6yhCi9F"
      },
      "source": [
        "(4) Write a Python program to get a string from a given string where all occurrences of its first char have been changed to '\\$', except the first char itself. (4 points)\n",
        "\n",
        "Sample String : 'restart‘, \n",
        "\n",
        "Expected Result : 'resta\\$t'"
      ]
    },
    {
      "cell_type": "code",
      "metadata": {
        "colab": {
          "base_uri": "https://localhost:8080/"
        },
        "id": "Fj0XhwbBCw2o",
        "outputId": "946d2278-34c0-4834-9d25-0f042234040c"
      },
      "source": [
        "def new_string(sample_string):\n",
        "  letter = sample_string[0]\n",
        "  sample_string = sample_string.replace(letter,'$')\n",
        "  sample_string = letter + sample_string [1:]\n",
        "  return sample_string\n",
        "print (new_string('restart')) \n",
        "\n"
      ],
      "execution_count": null,
      "outputs": [
        {
          "output_type": "stream",
          "name": "stdout",
          "text": [
            "resta$t\n"
          ]
        }
      ]
    },
    {
      "cell_type": "markdown",
      "metadata": {
        "id": "_bIP7s1MCzue"
      },
      "source": [
        "(5) Write a program with python which could accept two parameter a and b to calculate and output the result of S, where \n",
        "\n",
        "$\\ S=3.14*(1+a/b)^3$ (4 points)\n",
        "\n"
      ]
    },
    {
      "cell_type": "code",
      "metadata": {
        "colab": {
          "base_uri": "https://localhost:8080/"
        },
        "id": "w79QilHXD3Mg",
        "outputId": "5a27c08c-e4e3-4208-8ea8-f1487961ac36"
      },
      "source": [
        "def formula(a,b):\n",
        "  return 3.14*(1+a/b)**3\n",
        "formula (5,8)\n"
      ],
      "execution_count": 11,
      "outputs": [
        {
          "output_type": "execute_result",
          "data": {
            "text/plain": [
              "13.4737890625"
            ]
          },
          "metadata": {},
          "execution_count": 11
        }
      ]
    },
    {
      "cell_type": "markdown",
      "metadata": {
        "id": "xCa2bK9aD4Q3"
      },
      "source": [
        "(6) Write a Python program to concatenate following dictionaries to create a new one. (4 points)\n",
        "\n",
        "Sample Dictionary : dic1={1:10, 2:20}, dic2={3:30, 4:40}, dic3={5:50,6:60}, \n",
        "\n",
        "Expected Result : {1: 10, 2: 20, 3: 30, 4: 40, 5: 50, 6: 60}\n"
      ]
    },
    {
      "cell_type": "code",
      "metadata": {
        "colab": {
          "base_uri": "https://localhost:8080/"
        },
        "id": "_z4aLqAbEET1",
        "outputId": "fd19ccbf-79e6-4cbb-cdc1-b018788f3153"
      },
      "source": [
        "dic1= {1:10, 2:20}\n",
        "dic2 = {3:30, 4:40}\n",
        "dic3 = {5:50,6:60}\n",
        "dic4 = {}\n",
        "\n",
        "for expected_dic in (dic1, dic2, dic3):\n",
        "  dic4.update(expected_dic)\n",
        "print (dic4)\n"
      ],
      "execution_count": null,
      "outputs": [
        {
          "output_type": "stream",
          "name": "stdout",
          "text": [
            "{1: 10, 2: 20, 3: 30, 4: 40, 5: 50, 6: 60}\n"
          ]
        }
      ]
    },
    {
      "cell_type": "markdown",
      "metadata": {
        "id": "0v48Vqa7FrQh"
      },
      "source": [
        "(7) Write a Python program to check whether an element exists within a tuple. (4 points)"
      ]
    },
    {
      "cell_type": "code",
      "metadata": {
        "colab": {
          "base_uri": "https://localhost:8080/"
        },
        "id": "7WEmgq-DF2P1",
        "outputId": "969467e4-0385-4553-ad7f-6b5b196d3d01"
      },
      "source": [
        "tuple_romal = (\"flower\", \"11449539\", \"boy\", \"python\", \"info5731\", \"computer3\")\n",
        "print (\"computer3\" in tuple_romal)\n",
        "print (\"11449539\" in tuple_romal)\n",
        "print (\"0\" in tuple_romal)\n"
      ],
      "execution_count": null,
      "outputs": [
        {
          "output_type": "stream",
          "name": "stdout",
          "text": [
            "True\n",
            "True\n",
            "False\n"
          ]
        }
      ]
    },
    {
      "cell_type": "markdown",
      "metadata": {
        "id": "vD5PYLMuGga_"
      },
      "source": [
        "(8) Write a Python program to find maximum and the minimum value in a set. (4 points)"
      ]
    },
    {
      "cell_type": "code",
      "metadata": {
        "colab": {
          "base_uri": "https://localhost:8080/"
        },
        "id": "t0D5kdJUGjjw",
        "outputId": "f725ab68-edd3-4c7e-a1e0-98001dc04a2c"
      },
      "source": [
        "set_value = {3,7,12,34,2,9} \n",
        "print (max(set_value))\n",
        "print (min(set_value))"
      ],
      "execution_count": 27,
      "outputs": [
        {
          "output_type": "stream",
          "name": "stdout",
          "text": [
            "34\n",
            "2\n"
          ]
        }
      ]
    },
    {
      "cell_type": "markdown",
      "metadata": {
        "id": "uHkd-y5VhVWC"
      },
      "source": [
        "(9) Write a Python program to randomly divide the students in this class into six groups for term projects, each group should have at least 4 students but no more than 6 students (including 6). Here is the students list: (4 points)\n",
        "\n",
        "studnet_list = ['vmb0067','pc0353','snd0097','yye0005','sg0940','bk0301','rak0120','rrk0058','spk0057','vl0135','nm0547','pn0159',\n",
        "           'msp0174','dd0420','ds0761','rs0850','ss1995','at0739','at0768','mv0299','tv0119','dy0091','py0080','ttp0037','hc0439','ri0094','pk0339', 'hn0145','mn0426']"
      ]
    },
    {
      "cell_type": "code",
      "metadata": {
        "id": "3iGbmcOBhTwy",
        "colab": {
          "base_uri": "https://localhost:8080/"
        },
        "outputId": "c2299757-35c5-43ca-e6e9-66aec4227b40"
      },
      "source": [
        "import random\n",
        "student_list = ['vmb0067','pc0353','snd0097','yye0005','sg0940','bk0301','rak0120','rrk0058','spk0057','vl0135','nm0547','pn0159', 'msp0174','dd0420','ds0761','rs0850','ss1995',\n",
        "                'at0739','at0768','mv0299','tv0119','dy0091','py0080','ttp0037','hc0439','ri0094','pk0339', 'hn0145','mn0426']\n",
        "for r in range(6):\n",
        "  i = random.randint(6,6)\n",
        "  sublist = random.choices(student_list, k=i)\n",
        "  student_list= [r for r in student_list if r not in sublist]\n",
        "  print(sublist)\n"
      ],
      "execution_count": 25,
      "outputs": [
        {
          "output_type": "stream",
          "name": "stdout",
          "text": [
            "['pn0159', 'pn0159', 'pk0339', 'msp0174', 'rs0850', 'hn0145']\n",
            "['vmb0067', 'bk0301', 'at0768', 'at0739', 'nm0547', 'mn0426']\n",
            "['ttp0037', 'pc0353', 'pc0353', 'yye0005', 'hc0439', 'pc0353']\n",
            "['py0080', 'vl0135', 'dy0091', 'rak0120', 'dd0420', 'spk0057']\n",
            "['snd0097', 'sg0940', 'tv0119', 'ds0761', 'ss1995', 'rrk0058']\n",
            "['mv0299', 'ri0094', 'ri0094', 'ri0094', 'mv0299', 'mv0299']\n"
          ]
        }
      ]
    },
    {
      "cell_type": "markdown",
      "metadata": {
        "id": "BAvnVUgpOsfT"
      },
      "source": [
        "(10) Write a Python program to find the duplicate elements in a given array of integers. Return -1 If there are no such elements. (4 points)"
      ]
    },
    {
      "cell_type": "code",
      "metadata": {
        "id": "sW8TwXZAOsfU",
        "colab": {
          "base_uri": "https://localhost:8080/"
        },
        "outputId": "40139229-b7f0-47d8-b6a3-e3638a093ef7"
      },
      "source": [
        "integers_array = [5,34,5,12,77,34,94]\n",
        "\n",
        "# Using the duplicate function to find out the duplicate elements \n",
        "def duplicates(dup_array):\n",
        "  return set ([r for r in dup_array if dup_array.count(r)>1]) # if the count of an element is more than 1 then return that value\n",
        "print(duplicates(integers_array))\n",
        "\n"
      ],
      "execution_count": 15,
      "outputs": [
        {
          "output_type": "stream",
          "name": "stdout",
          "text": [
            "{34, 5}\n"
          ]
        }
      ]
    },
    {
      "cell_type": "markdown",
      "metadata": {
        "id": "9ojGVhjuOsfU"
      },
      "source": [
        "(11) Write a Python program to select all the Sundays of a specified year. (4 extra points)"
      ]
    },
    {
      "cell_type": "code",
      "metadata": {
        "colab": {
          "base_uri": "https://localhost:8080/"
        },
        "id": "Fk2p7ML6OsfU",
        "outputId": "e31147db-c93b-43e7-a721-eca7b76009f9"
      },
      "source": [
        "from datetime import date, timedelta\n",
        "# I have picked the year 2010\n",
        "year = 2010\n",
        "\n",
        "first_date = date(year, 1, 1)\n",
        "first_date = first_date + timedelta(days = 6 - first_date.weekday())  \n",
        "while first_date.year == year:\n",
        "  print (first_date)\n",
        "  first_date = first_date + timedelta(days = 7)\n",
        "\n"
      ],
      "execution_count": 10,
      "outputs": [
        {
          "output_type": "stream",
          "name": "stdout",
          "text": [
            "2010-01-03\n",
            "2010-01-10\n",
            "2010-01-17\n",
            "2010-01-24\n",
            "2010-01-31\n",
            "2010-02-07\n",
            "2010-02-14\n",
            "2010-02-21\n",
            "2010-02-28\n",
            "2010-03-07\n",
            "2010-03-14\n",
            "2010-03-21\n",
            "2010-03-28\n",
            "2010-04-04\n",
            "2010-04-11\n",
            "2010-04-18\n",
            "2010-04-25\n",
            "2010-05-02\n",
            "2010-05-09\n",
            "2010-05-16\n",
            "2010-05-23\n",
            "2010-05-30\n",
            "2010-06-06\n",
            "2010-06-13\n",
            "2010-06-20\n",
            "2010-06-27\n",
            "2010-07-04\n",
            "2010-07-11\n",
            "2010-07-18\n",
            "2010-07-25\n",
            "2010-08-01\n",
            "2010-08-08\n",
            "2010-08-15\n",
            "2010-08-22\n",
            "2010-08-29\n",
            "2010-09-05\n",
            "2010-09-12\n",
            "2010-09-19\n",
            "2010-09-26\n",
            "2010-10-03\n",
            "2010-10-10\n",
            "2010-10-17\n",
            "2010-10-24\n",
            "2010-10-31\n",
            "2010-11-07\n",
            "2010-11-14\n",
            "2010-11-21\n",
            "2010-11-28\n",
            "2010-12-05\n",
            "2010-12-12\n",
            "2010-12-19\n",
            "2010-12-26\n"
          ]
        }
      ]
    }
  ]
}